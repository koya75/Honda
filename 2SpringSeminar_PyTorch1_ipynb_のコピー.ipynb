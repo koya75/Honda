{
  "nbformat": 4,
  "nbformat_minor": 0,
  "metadata": {
    "colab": {
      "name": "2SpringSeminar_PyTorch1.ipynb のコピー",
      "provenance": [],
      "collapsed_sections": [],
      "include_colab_link": true
    },
    "kernelspec": {
      "name": "python3",
      "display_name": "Python 3"
    },
    "widgets": {
      "application/vnd.jupyter.widget-state+json": {
        "4ff08e0432124c76b87683e8246719be": {
          "model_module": "@jupyter-widgets/controls",
          "model_name": "HBoxModel",
          "state": {
            "_view_name": "HBoxView",
            "_dom_classes": [],
            "_model_name": "HBoxModel",
            "_view_module": "@jupyter-widgets/controls",
            "_model_module_version": "1.5.0",
            "_view_count": null,
            "_view_module_version": "1.5.0",
            "box_style": "",
            "layout": "IPY_MODEL_1bccf84fa0324eafa0a2cea5e0b4cdb3",
            "_model_module": "@jupyter-widgets/controls",
            "children": [
              "IPY_MODEL_c05b78c8bc1343adb3ecf4ae3aa47717",
              "IPY_MODEL_18d1446f10e344779d0fa9ec8e85b033"
            ]
          }
        },
        "1bccf84fa0324eafa0a2cea5e0b4cdb3": {
          "model_module": "@jupyter-widgets/base",
          "model_name": "LayoutModel",
          "state": {
            "_view_name": "LayoutView",
            "grid_template_rows": null,
            "right": null,
            "justify_content": null,
            "_view_module": "@jupyter-widgets/base",
            "overflow": null,
            "_model_module_version": "1.2.0",
            "_view_count": null,
            "flex_flow": null,
            "width": null,
            "min_width": null,
            "border": null,
            "align_items": null,
            "bottom": null,
            "_model_module": "@jupyter-widgets/base",
            "top": null,
            "grid_column": null,
            "overflow_y": null,
            "overflow_x": null,
            "grid_auto_flow": null,
            "grid_area": null,
            "grid_template_columns": null,
            "flex": null,
            "_model_name": "LayoutModel",
            "justify_items": null,
            "grid_row": null,
            "max_height": null,
            "align_content": null,
            "visibility": null,
            "align_self": null,
            "height": null,
            "min_height": null,
            "padding": null,
            "grid_auto_rows": null,
            "grid_gap": null,
            "max_width": null,
            "order": null,
            "_view_module_version": "1.2.0",
            "grid_template_areas": null,
            "object_position": null,
            "object_fit": null,
            "grid_auto_columns": null,
            "margin": null,
            "display": null,
            "left": null
          }
        },
        "c05b78c8bc1343adb3ecf4ae3aa47717": {
          "model_module": "@jupyter-widgets/controls",
          "model_name": "FloatProgressModel",
          "state": {
            "_view_name": "ProgressView",
            "style": "IPY_MODEL_04054d3e0381437b9035583774ffb4cc",
            "_dom_classes": [],
            "description": "",
            "_model_name": "FloatProgressModel",
            "bar_style": "success",
            "max": 9912422,
            "_view_module": "@jupyter-widgets/controls",
            "_model_module_version": "1.5.0",
            "value": 9912422,
            "_view_count": null,
            "_view_module_version": "1.5.0",
            "orientation": "horizontal",
            "min": 0,
            "description_tooltip": null,
            "_model_module": "@jupyter-widgets/controls",
            "layout": "IPY_MODEL_0f007a1419cd424aa3470a037b0fbd34"
          }
        },
        "18d1446f10e344779d0fa9ec8e85b033": {
          "model_module": "@jupyter-widgets/controls",
          "model_name": "HTMLModel",
          "state": {
            "_view_name": "HTMLView",
            "style": "IPY_MODEL_5edcd3a46b794b6b8cc9314f958284ad",
            "_dom_classes": [],
            "description": "",
            "_model_name": "HTMLModel",
            "placeholder": "​",
            "_view_module": "@jupyter-widgets/controls",
            "_model_module_version": "1.5.0",
            "value": " 9913344/? [15:24&lt;00:00, 10723.94it/s]",
            "_view_count": null,
            "_view_module_version": "1.5.0",
            "description_tooltip": null,
            "_model_module": "@jupyter-widgets/controls",
            "layout": "IPY_MODEL_ee1d032fab5341a18eaaa4586229240e"
          }
        },
        "04054d3e0381437b9035583774ffb4cc": {
          "model_module": "@jupyter-widgets/controls",
          "model_name": "ProgressStyleModel",
          "state": {
            "_view_name": "StyleView",
            "_model_name": "ProgressStyleModel",
            "description_width": "initial",
            "_view_module": "@jupyter-widgets/base",
            "_model_module_version": "1.5.0",
            "_view_count": null,
            "_view_module_version": "1.2.0",
            "bar_color": null,
            "_model_module": "@jupyter-widgets/controls"
          }
        },
        "0f007a1419cd424aa3470a037b0fbd34": {
          "model_module": "@jupyter-widgets/base",
          "model_name": "LayoutModel",
          "state": {
            "_view_name": "LayoutView",
            "grid_template_rows": null,
            "right": null,
            "justify_content": null,
            "_view_module": "@jupyter-widgets/base",
            "overflow": null,
            "_model_module_version": "1.2.0",
            "_view_count": null,
            "flex_flow": null,
            "width": null,
            "min_width": null,
            "border": null,
            "align_items": null,
            "bottom": null,
            "_model_module": "@jupyter-widgets/base",
            "top": null,
            "grid_column": null,
            "overflow_y": null,
            "overflow_x": null,
            "grid_auto_flow": null,
            "grid_area": null,
            "grid_template_columns": null,
            "flex": null,
            "_model_name": "LayoutModel",
            "justify_items": null,
            "grid_row": null,
            "max_height": null,
            "align_content": null,
            "visibility": null,
            "align_self": null,
            "height": null,
            "min_height": null,
            "padding": null,
            "grid_auto_rows": null,
            "grid_gap": null,
            "max_width": null,
            "order": null,
            "_view_module_version": "1.2.0",
            "grid_template_areas": null,
            "object_position": null,
            "object_fit": null,
            "grid_auto_columns": null,
            "margin": null,
            "display": null,
            "left": null
          }
        },
        "5edcd3a46b794b6b8cc9314f958284ad": {
          "model_module": "@jupyter-widgets/controls",
          "model_name": "DescriptionStyleModel",
          "state": {
            "_view_name": "StyleView",
            "_model_name": "DescriptionStyleModel",
            "description_width": "",
            "_view_module": "@jupyter-widgets/base",
            "_model_module_version": "1.5.0",
            "_view_count": null,
            "_view_module_version": "1.2.0",
            "_model_module": "@jupyter-widgets/controls"
          }
        },
        "ee1d032fab5341a18eaaa4586229240e": {
          "model_module": "@jupyter-widgets/base",
          "model_name": "LayoutModel",
          "state": {
            "_view_name": "LayoutView",
            "grid_template_rows": null,
            "right": null,
            "justify_content": null,
            "_view_module": "@jupyter-widgets/base",
            "overflow": null,
            "_model_module_version": "1.2.0",
            "_view_count": null,
            "flex_flow": null,
            "width": null,
            "min_width": null,
            "border": null,
            "align_items": null,
            "bottom": null,
            "_model_module": "@jupyter-widgets/base",
            "top": null,
            "grid_column": null,
            "overflow_y": null,
            "overflow_x": null,
            "grid_auto_flow": null,
            "grid_area": null,
            "grid_template_columns": null,
            "flex": null,
            "_model_name": "LayoutModel",
            "justify_items": null,
            "grid_row": null,
            "max_height": null,
            "align_content": null,
            "visibility": null,
            "align_self": null,
            "height": null,
            "min_height": null,
            "padding": null,
            "grid_auto_rows": null,
            "grid_gap": null,
            "max_width": null,
            "order": null,
            "_view_module_version": "1.2.0",
            "grid_template_areas": null,
            "object_position": null,
            "object_fit": null,
            "grid_auto_columns": null,
            "margin": null,
            "display": null,
            "left": null
          }
        },
        "d46ea6ae619946788e198b1fd61f25e7": {
          "model_module": "@jupyter-widgets/controls",
          "model_name": "HBoxModel",
          "state": {
            "_view_name": "HBoxView",
            "_dom_classes": [],
            "_model_name": "HBoxModel",
            "_view_module": "@jupyter-widgets/controls",
            "_model_module_version": "1.5.0",
            "_view_count": null,
            "_view_module_version": "1.5.0",
            "box_style": "",
            "layout": "IPY_MODEL_5a38af6dc36a4eefa356863252acdfa2",
            "_model_module": "@jupyter-widgets/controls",
            "children": [
              "IPY_MODEL_085da8e03247439faf51d8b550439fc1",
              "IPY_MODEL_6e69fcfb765c4196a474f37bed64b956"
            ]
          }
        },
        "5a38af6dc36a4eefa356863252acdfa2": {
          "model_module": "@jupyter-widgets/base",
          "model_name": "LayoutModel",
          "state": {
            "_view_name": "LayoutView",
            "grid_template_rows": null,
            "right": null,
            "justify_content": null,
            "_view_module": "@jupyter-widgets/base",
            "overflow": null,
            "_model_module_version": "1.2.0",
            "_view_count": null,
            "flex_flow": null,
            "width": null,
            "min_width": null,
            "border": null,
            "align_items": null,
            "bottom": null,
            "_model_module": "@jupyter-widgets/base",
            "top": null,
            "grid_column": null,
            "overflow_y": null,
            "overflow_x": null,
            "grid_auto_flow": null,
            "grid_area": null,
            "grid_template_columns": null,
            "flex": null,
            "_model_name": "LayoutModel",
            "justify_items": null,
            "grid_row": null,
            "max_height": null,
            "align_content": null,
            "visibility": null,
            "align_self": null,
            "height": null,
            "min_height": null,
            "padding": null,
            "grid_auto_rows": null,
            "grid_gap": null,
            "max_width": null,
            "order": null,
            "_view_module_version": "1.2.0",
            "grid_template_areas": null,
            "object_position": null,
            "object_fit": null,
            "grid_auto_columns": null,
            "margin": null,
            "display": null,
            "left": null
          }
        },
        "085da8e03247439faf51d8b550439fc1": {
          "model_module": "@jupyter-widgets/controls",
          "model_name": "FloatProgressModel",
          "state": {
            "_view_name": "ProgressView",
            "style": "IPY_MODEL_4c21e259f04a45409f7a5419c5693064",
            "_dom_classes": [],
            "description": "",
            "_model_name": "FloatProgressModel",
            "bar_style": "success",
            "max": 28881,
            "_view_module": "@jupyter-widgets/controls",
            "_model_module_version": "1.5.0",
            "value": 28881,
            "_view_count": null,
            "_view_module_version": "1.5.0",
            "orientation": "horizontal",
            "min": 0,
            "description_tooltip": null,
            "_model_module": "@jupyter-widgets/controls",
            "layout": "IPY_MODEL_2428d7d348bd4ee6adb9df93b8d911a9"
          }
        },
        "6e69fcfb765c4196a474f37bed64b956": {
          "model_module": "@jupyter-widgets/controls",
          "model_name": "HTMLModel",
          "state": {
            "_view_name": "HTMLView",
            "style": "IPY_MODEL_52bc56e85dd24251b8e14c6f3790707d",
            "_dom_classes": [],
            "description": "",
            "_model_name": "HTMLModel",
            "placeholder": "​",
            "_view_module": "@jupyter-widgets/controls",
            "_model_module_version": "1.5.0",
            "value": " 29696/? [01:27&lt;00:00, 341.07it/s]",
            "_view_count": null,
            "_view_module_version": "1.5.0",
            "description_tooltip": null,
            "_model_module": "@jupyter-widgets/controls",
            "layout": "IPY_MODEL_bb9f11034bc045ad873b72c69dc1a224"
          }
        },
        "4c21e259f04a45409f7a5419c5693064": {
          "model_module": "@jupyter-widgets/controls",
          "model_name": "ProgressStyleModel",
          "state": {
            "_view_name": "StyleView",
            "_model_name": "ProgressStyleModel",
            "description_width": "initial",
            "_view_module": "@jupyter-widgets/base",
            "_model_module_version": "1.5.0",
            "_view_count": null,
            "_view_module_version": "1.2.0",
            "bar_color": null,
            "_model_module": "@jupyter-widgets/controls"
          }
        },
        "2428d7d348bd4ee6adb9df93b8d911a9": {
          "model_module": "@jupyter-widgets/base",
          "model_name": "LayoutModel",
          "state": {
            "_view_name": "LayoutView",
            "grid_template_rows": null,
            "right": null,
            "justify_content": null,
            "_view_module": "@jupyter-widgets/base",
            "overflow": null,
            "_model_module_version": "1.2.0",
            "_view_count": null,
            "flex_flow": null,
            "width": null,
            "min_width": null,
            "border": null,
            "align_items": null,
            "bottom": null,
            "_model_module": "@jupyter-widgets/base",
            "top": null,
            "grid_column": null,
            "overflow_y": null,
            "overflow_x": null,
            "grid_auto_flow": null,
            "grid_area": null,
            "grid_template_columns": null,
            "flex": null,
            "_model_name": "LayoutModel",
            "justify_items": null,
            "grid_row": null,
            "max_height": null,
            "align_content": null,
            "visibility": null,
            "align_self": null,
            "height": null,
            "min_height": null,
            "padding": null,
            "grid_auto_rows": null,
            "grid_gap": null,
            "max_width": null,
            "order": null,
            "_view_module_version": "1.2.0",
            "grid_template_areas": null,
            "object_position": null,
            "object_fit": null,
            "grid_auto_columns": null,
            "margin": null,
            "display": null,
            "left": null
          }
        },
        "52bc56e85dd24251b8e14c6f3790707d": {
          "model_module": "@jupyter-widgets/controls",
          "model_name": "DescriptionStyleModel",
          "state": {
            "_view_name": "StyleView",
            "_model_name": "DescriptionStyleModel",
            "description_width": "",
            "_view_module": "@jupyter-widgets/base",
            "_model_module_version": "1.5.0",
            "_view_count": null,
            "_view_module_version": "1.2.0",
            "_model_module": "@jupyter-widgets/controls"
          }
        },
        "bb9f11034bc045ad873b72c69dc1a224": {
          "model_module": "@jupyter-widgets/base",
          "model_name": "LayoutModel",
          "state": {
            "_view_name": "LayoutView",
            "grid_template_rows": null,
            "right": null,
            "justify_content": null,
            "_view_module": "@jupyter-widgets/base",
            "overflow": null,
            "_model_module_version": "1.2.0",
            "_view_count": null,
            "flex_flow": null,
            "width": null,
            "min_width": null,
            "border": null,
            "align_items": null,
            "bottom": null,
            "_model_module": "@jupyter-widgets/base",
            "top": null,
            "grid_column": null,
            "overflow_y": null,
            "overflow_x": null,
            "grid_auto_flow": null,
            "grid_area": null,
            "grid_template_columns": null,
            "flex": null,
            "_model_name": "LayoutModel",
            "justify_items": null,
            "grid_row": null,
            "max_height": null,
            "align_content": null,
            "visibility": null,
            "align_self": null,
            "height": null,
            "min_height": null,
            "padding": null,
            "grid_auto_rows": null,
            "grid_gap": null,
            "max_width": null,
            "order": null,
            "_view_module_version": "1.2.0",
            "grid_template_areas": null,
            "object_position": null,
            "object_fit": null,
            "grid_auto_columns": null,
            "margin": null,
            "display": null,
            "left": null
          }
        },
        "ff6a781488ab4b12a0b90e854c92134c": {
          "model_module": "@jupyter-widgets/controls",
          "model_name": "HBoxModel",
          "state": {
            "_view_name": "HBoxView",
            "_dom_classes": [],
            "_model_name": "HBoxModel",
            "_view_module": "@jupyter-widgets/controls",
            "_model_module_version": "1.5.0",
            "_view_count": null,
            "_view_module_version": "1.5.0",
            "box_style": "",
            "layout": "IPY_MODEL_79786d812a1844bd965ef1c08008305d",
            "_model_module": "@jupyter-widgets/controls",
            "children": [
              "IPY_MODEL_e3c362e87c024f07b505e94f7728193a",
              "IPY_MODEL_98e5222ceea4443fbace6854778c9b44"
            ]
          }
        },
        "79786d812a1844bd965ef1c08008305d": {
          "model_module": "@jupyter-widgets/base",
          "model_name": "LayoutModel",
          "state": {
            "_view_name": "LayoutView",
            "grid_template_rows": null,
            "right": null,
            "justify_content": null,
            "_view_module": "@jupyter-widgets/base",
            "overflow": null,
            "_model_module_version": "1.2.0",
            "_view_count": null,
            "flex_flow": null,
            "width": null,
            "min_width": null,
            "border": null,
            "align_items": null,
            "bottom": null,
            "_model_module": "@jupyter-widgets/base",
            "top": null,
            "grid_column": null,
            "overflow_y": null,
            "overflow_x": null,
            "grid_auto_flow": null,
            "grid_area": null,
            "grid_template_columns": null,
            "flex": null,
            "_model_name": "LayoutModel",
            "justify_items": null,
            "grid_row": null,
            "max_height": null,
            "align_content": null,
            "visibility": null,
            "align_self": null,
            "height": null,
            "min_height": null,
            "padding": null,
            "grid_auto_rows": null,
            "grid_gap": null,
            "max_width": null,
            "order": null,
            "_view_module_version": "1.2.0",
            "grid_template_areas": null,
            "object_position": null,
            "object_fit": null,
            "grid_auto_columns": null,
            "margin": null,
            "display": null,
            "left": null
          }
        },
        "e3c362e87c024f07b505e94f7728193a": {
          "model_module": "@jupyter-widgets/controls",
          "model_name": "FloatProgressModel",
          "state": {
            "_view_name": "ProgressView",
            "style": "IPY_MODEL_24eb2fc025f04d7bbf012c243a2fa467",
            "_dom_classes": [],
            "description": "",
            "_model_name": "FloatProgressModel",
            "bar_style": "success",
            "max": 1648877,
            "_view_module": "@jupyter-widgets/controls",
            "_model_module_version": "1.5.0",
            "value": 1648877,
            "_view_count": null,
            "_view_module_version": "1.5.0",
            "orientation": "horizontal",
            "min": 0,
            "description_tooltip": null,
            "_model_module": "@jupyter-widgets/controls",
            "layout": "IPY_MODEL_ae20f783a0b0499ea19d47e3632feb46"
          }
        },
        "98e5222ceea4443fbace6854778c9b44": {
          "model_module": "@jupyter-widgets/controls",
          "model_name": "HTMLModel",
          "state": {
            "_view_name": "HTMLView",
            "style": "IPY_MODEL_434f710f6afa48fbb0a6959ea723ea61",
            "_dom_classes": [],
            "description": "",
            "_model_name": "HTMLModel",
            "placeholder": "​",
            "_view_module": "@jupyter-widgets/controls",
            "_model_module_version": "1.5.0",
            "value": " 1649664/? [00:41&lt;00:00, 39509.07it/s]",
            "_view_count": null,
            "_view_module_version": "1.5.0",
            "description_tooltip": null,
            "_model_module": "@jupyter-widgets/controls",
            "layout": "IPY_MODEL_154823260c2b4affbcbddb7610470188"
          }
        },
        "24eb2fc025f04d7bbf012c243a2fa467": {
          "model_module": "@jupyter-widgets/controls",
          "model_name": "ProgressStyleModel",
          "state": {
            "_view_name": "StyleView",
            "_model_name": "ProgressStyleModel",
            "description_width": "initial",
            "_view_module": "@jupyter-widgets/base",
            "_model_module_version": "1.5.0",
            "_view_count": null,
            "_view_module_version": "1.2.0",
            "bar_color": null,
            "_model_module": "@jupyter-widgets/controls"
          }
        },
        "ae20f783a0b0499ea19d47e3632feb46": {
          "model_module": "@jupyter-widgets/base",
          "model_name": "LayoutModel",
          "state": {
            "_view_name": "LayoutView",
            "grid_template_rows": null,
            "right": null,
            "justify_content": null,
            "_view_module": "@jupyter-widgets/base",
            "overflow": null,
            "_model_module_version": "1.2.0",
            "_view_count": null,
            "flex_flow": null,
            "width": null,
            "min_width": null,
            "border": null,
            "align_items": null,
            "bottom": null,
            "_model_module": "@jupyter-widgets/base",
            "top": null,
            "grid_column": null,
            "overflow_y": null,
            "overflow_x": null,
            "grid_auto_flow": null,
            "grid_area": null,
            "grid_template_columns": null,
            "flex": null,
            "_model_name": "LayoutModel",
            "justify_items": null,
            "grid_row": null,
            "max_height": null,
            "align_content": null,
            "visibility": null,
            "align_self": null,
            "height": null,
            "min_height": null,
            "padding": null,
            "grid_auto_rows": null,
            "grid_gap": null,
            "max_width": null,
            "order": null,
            "_view_module_version": "1.2.0",
            "grid_template_areas": null,
            "object_position": null,
            "object_fit": null,
            "grid_auto_columns": null,
            "margin": null,
            "display": null,
            "left": null
          }
        },
        "434f710f6afa48fbb0a6959ea723ea61": {
          "model_module": "@jupyter-widgets/controls",
          "model_name": "DescriptionStyleModel",
          "state": {
            "_view_name": "StyleView",
            "_model_name": "DescriptionStyleModel",
            "description_width": "",
            "_view_module": "@jupyter-widgets/base",
            "_model_module_version": "1.5.0",
            "_view_count": null,
            "_view_module_version": "1.2.0",
            "_model_module": "@jupyter-widgets/controls"
          }
        },
        "154823260c2b4affbcbddb7610470188": {
          "model_module": "@jupyter-widgets/base",
          "model_name": "LayoutModel",
          "state": {
            "_view_name": "LayoutView",
            "grid_template_rows": null,
            "right": null,
            "justify_content": null,
            "_view_module": "@jupyter-widgets/base",
            "overflow": null,
            "_model_module_version": "1.2.0",
            "_view_count": null,
            "flex_flow": null,
            "width": null,
            "min_width": null,
            "border": null,
            "align_items": null,
            "bottom": null,
            "_model_module": "@jupyter-widgets/base",
            "top": null,
            "grid_column": null,
            "overflow_y": null,
            "overflow_x": null,
            "grid_auto_flow": null,
            "grid_area": null,
            "grid_template_columns": null,
            "flex": null,
            "_model_name": "LayoutModel",
            "justify_items": null,
            "grid_row": null,
            "max_height": null,
            "align_content": null,
            "visibility": null,
            "align_self": null,
            "height": null,
            "min_height": null,
            "padding": null,
            "grid_auto_rows": null,
            "grid_gap": null,
            "max_width": null,
            "order": null,
            "_view_module_version": "1.2.0",
            "grid_template_areas": null,
            "object_position": null,
            "object_fit": null,
            "grid_auto_columns": null,
            "margin": null,
            "display": null,
            "left": null
          }
        },
        "6d4a263fb1de47399e65be9e0c72f16f": {
          "model_module": "@jupyter-widgets/controls",
          "model_name": "HBoxModel",
          "state": {
            "_view_name": "HBoxView",
            "_dom_classes": [],
            "_model_name": "HBoxModel",
            "_view_module": "@jupyter-widgets/controls",
            "_model_module_version": "1.5.0",
            "_view_count": null,
            "_view_module_version": "1.5.0",
            "box_style": "",
            "layout": "IPY_MODEL_ee9c25f8ea5f472b88146d41f4e139d5",
            "_model_module": "@jupyter-widgets/controls",
            "children": [
              "IPY_MODEL_c3ca0bfb5efa4d9aad807d7533580ce0",
              "IPY_MODEL_7967150c9d654088a50a8a900d733cc4"
            ]
          }
        },
        "ee9c25f8ea5f472b88146d41f4e139d5": {
          "model_module": "@jupyter-widgets/base",
          "model_name": "LayoutModel",
          "state": {
            "_view_name": "LayoutView",
            "grid_template_rows": null,
            "right": null,
            "justify_content": null,
            "_view_module": "@jupyter-widgets/base",
            "overflow": null,
            "_model_module_version": "1.2.0",
            "_view_count": null,
            "flex_flow": null,
            "width": null,
            "min_width": null,
            "border": null,
            "align_items": null,
            "bottom": null,
            "_model_module": "@jupyter-widgets/base",
            "top": null,
            "grid_column": null,
            "overflow_y": null,
            "overflow_x": null,
            "grid_auto_flow": null,
            "grid_area": null,
            "grid_template_columns": null,
            "flex": null,
            "_model_name": "LayoutModel",
            "justify_items": null,
            "grid_row": null,
            "max_height": null,
            "align_content": null,
            "visibility": null,
            "align_self": null,
            "height": null,
            "min_height": null,
            "padding": null,
            "grid_auto_rows": null,
            "grid_gap": null,
            "max_width": null,
            "order": null,
            "_view_module_version": "1.2.0",
            "grid_template_areas": null,
            "object_position": null,
            "object_fit": null,
            "grid_auto_columns": null,
            "margin": null,
            "display": null,
            "left": null
          }
        },
        "c3ca0bfb5efa4d9aad807d7533580ce0": {
          "model_module": "@jupyter-widgets/controls",
          "model_name": "FloatProgressModel",
          "state": {
            "_view_name": "ProgressView",
            "style": "IPY_MODEL_ff492d53d233473a9da78d0b0f45796f",
            "_dom_classes": [],
            "description": "",
            "_model_name": "FloatProgressModel",
            "bar_style": "success",
            "max": 4542,
            "_view_module": "@jupyter-widgets/controls",
            "_model_module_version": "1.5.0",
            "value": 4542,
            "_view_count": null,
            "_view_module_version": "1.5.0",
            "orientation": "horizontal",
            "min": 0,
            "description_tooltip": null,
            "_model_module": "@jupyter-widgets/controls",
            "layout": "IPY_MODEL_287b7d74612e4b8bb9a6e24c0a9b8f1a"
          }
        },
        "7967150c9d654088a50a8a900d733cc4": {
          "model_module": "@jupyter-widgets/controls",
          "model_name": "HTMLModel",
          "state": {
            "_view_name": "HTMLView",
            "style": "IPY_MODEL_dfd746a3e50e4daca9f8e71fb1cd5911",
            "_dom_classes": [],
            "description": "",
            "_model_name": "HTMLModel",
            "placeholder": "​",
            "_view_module": "@jupyter-widgets/controls",
            "_model_module_version": "1.5.0",
            "value": " 5120/? [00:00&lt;00:00, 9623.34it/s]",
            "_view_count": null,
            "_view_module_version": "1.5.0",
            "description_tooltip": null,
            "_model_module": "@jupyter-widgets/controls",
            "layout": "IPY_MODEL_aa14f150ca234d94ab6664ffc6af4bad"
          }
        },
        "ff492d53d233473a9da78d0b0f45796f": {
          "model_module": "@jupyter-widgets/controls",
          "model_name": "ProgressStyleModel",
          "state": {
            "_view_name": "StyleView",
            "_model_name": "ProgressStyleModel",
            "description_width": "initial",
            "_view_module": "@jupyter-widgets/base",
            "_model_module_version": "1.5.0",
            "_view_count": null,
            "_view_module_version": "1.2.0",
            "bar_color": null,
            "_model_module": "@jupyter-widgets/controls"
          }
        },
        "287b7d74612e4b8bb9a6e24c0a9b8f1a": {
          "model_module": "@jupyter-widgets/base",
          "model_name": "LayoutModel",
          "state": {
            "_view_name": "LayoutView",
            "grid_template_rows": null,
            "right": null,
            "justify_content": null,
            "_view_module": "@jupyter-widgets/base",
            "overflow": null,
            "_model_module_version": "1.2.0",
            "_view_count": null,
            "flex_flow": null,
            "width": null,
            "min_width": null,
            "border": null,
            "align_items": null,
            "bottom": null,
            "_model_module": "@jupyter-widgets/base",
            "top": null,
            "grid_column": null,
            "overflow_y": null,
            "overflow_x": null,
            "grid_auto_flow": null,
            "grid_area": null,
            "grid_template_columns": null,
            "flex": null,
            "_model_name": "LayoutModel",
            "justify_items": null,
            "grid_row": null,
            "max_height": null,
            "align_content": null,
            "visibility": null,
            "align_self": null,
            "height": null,
            "min_height": null,
            "padding": null,
            "grid_auto_rows": null,
            "grid_gap": null,
            "max_width": null,
            "order": null,
            "_view_module_version": "1.2.0",
            "grid_template_areas": null,
            "object_position": null,
            "object_fit": null,
            "grid_auto_columns": null,
            "margin": null,
            "display": null,
            "left": null
          }
        },
        "dfd746a3e50e4daca9f8e71fb1cd5911": {
          "model_module": "@jupyter-widgets/controls",
          "model_name": "DescriptionStyleModel",
          "state": {
            "_view_name": "StyleView",
            "_model_name": "DescriptionStyleModel",
            "description_width": "",
            "_view_module": "@jupyter-widgets/base",
            "_model_module_version": "1.5.0",
            "_view_count": null,
            "_view_module_version": "1.2.0",
            "_model_module": "@jupyter-widgets/controls"
          }
        },
        "aa14f150ca234d94ab6664ffc6af4bad": {
          "model_module": "@jupyter-widgets/base",
          "model_name": "LayoutModel",
          "state": {
            "_view_name": "LayoutView",
            "grid_template_rows": null,
            "right": null,
            "justify_content": null,
            "_view_module": "@jupyter-widgets/base",
            "overflow": null,
            "_model_module_version": "1.2.0",
            "_view_count": null,
            "flex_flow": null,
            "width": null,
            "min_width": null,
            "border": null,
            "align_items": null,
            "bottom": null,
            "_model_module": "@jupyter-widgets/base",
            "top": null,
            "grid_column": null,
            "overflow_y": null,
            "overflow_x": null,
            "grid_auto_flow": null,
            "grid_area": null,
            "grid_template_columns": null,
            "flex": null,
            "_model_name": "LayoutModel",
            "justify_items": null,
            "grid_row": null,
            "max_height": null,
            "align_content": null,
            "visibility": null,
            "align_self": null,
            "height": null,
            "min_height": null,
            "padding": null,
            "grid_auto_rows": null,
            "grid_gap": null,
            "max_width": null,
            "order": null,
            "_view_module_version": "1.2.0",
            "grid_template_areas": null,
            "object_position": null,
            "object_fit": null,
            "grid_auto_columns": null,
            "margin": null,
            "display": null,
            "left": null
          }
        }
      }
    }
  },
  "cells": [
    {
      "cell_type": "markdown",
      "metadata": {
        "id": "view-in-github",
        "colab_type": "text"
      },
      "source": [
        "<a href=\"https://colab.research.google.com/github/koya75/Honda/blob/master/2SpringSeminar_PyTorch1_ipynb_%E3%81%AE%E3%82%B3%E3%83%94%E3%83%BC.ipynb\" target=\"_parent\"><img src=\"https://colab.research.google.com/assets/colab-badge.svg\" alt=\"Open In Colab\"/></a>"
      ]
    },
    {
      "cell_type": "markdown",
      "metadata": {
        "id": "rtIA73LHKvkG"
      },
      "source": [
        "# 春の勉強会 (PyTorch1)"
      ]
    },
    {
      "cell_type": "markdown",
      "metadata": {
        "id": "vjF5-j2bK8lT"
      },
      "source": [
        "## モジュールの呼び出し"
      ]
    },
    {
      "cell_type": "code",
      "metadata": {
        "id": "RIdcSJ6gEqwe"
      },
      "source": [
        "import numpy as np\n",
        "import argparse\n",
        "import sys\n",
        "\n",
        "import urllib\n",
        "import zipfile\n",
        "import os\n",
        "\n",
        "import torch\n",
        "import torch.nn as nn #計算グラフの構築に使用\n",
        "import torch.optim as optim #最適化アルゴリズム\n",
        "import torchsummary #特徴マップのサイズ確認\n",
        "import torchvision #機械学習のフレームワーク\n",
        "import torchvision.transforms as transform #画像変換\n",
        "from torch.utils.data import DataLoader, Dataset #Detaloader\n",
        "from torchvision.datasets import MNIST\n",
        "from torch.autograd import Variable #自動で微分"
      ],
      "execution_count": null,
      "outputs": []
    },
    {
      "cell_type": "markdown",
      "metadata": {
        "id": "K02D2UnzLF0T"
      },
      "source": [
        "## モデルクラスの定義"
      ]
    },
    {
      "cell_type": "code",
      "metadata": {
        "id": "ZRep2auGE0Y5"
      },
      "source": [
        "class NN(nn.Module):\n",
        "    def __init__(self,in_size,hidden_size,out_size):\n",
        "        super(NN,self).__init__()\n",
        "        self.xh = nn.Linear(in_size,hidden_size) #全結合層\n",
        "        #self.xh2 = nn.Linear(hidden_size,hidden_size)　課題1\n",
        "        self.ho = nn.Linear(hidden_size,out_size) #全結合層\n",
        "        self.act = nn.ReLU() #ReLU関数\n",
        "        self.softmax = nn.Softmax(dim=1)\n",
        "    def forward(self,x,train=False):\n",
        "        x = x.view(-1,28*28) #28*28に調整\n",
        "        h = self.act(self.xh(x))\n",
        "        #h = self.act(self.xh2(h))　課題1\n",
        "        y = self.act(self.ho(h))\n",
        "        if train:\n",
        "            return y\n",
        "        return self.softmax(y)"
      ],
      "execution_count": null,
      "outputs": []
    },
    {
      "cell_type": "markdown",
      "metadata": {
        "id": "kmQPVRgpLL6K"
      },
      "source": [
        "## パラメータの設定"
      ]
    },
    {
      "cell_type": "code",
      "metadata": {
        "id": "luDeoOn4E2N0"
      },
      "source": [
        "parser=argparse.ArgumentParser()\n",
        "parser.add_argument('--epoch',type=int,default=20,help='number of epoch')\n",
        "parser.add_argument('--in_size',type=int,default=784,help='input size')\n",
        "parser.add_argument('--hidden_size',type=int,default=50,help='hidden size')\n",
        "parser.add_argument('--out_size',type=int,default=10,help='output size')\n",
        "parser.add_argument('--batch_size',type=int,default=32,help='number of batch size')\n",
        "parser.add_argument('--lr',type=float,default=0.03,help='number of learning rate')\n",
        "args=parser.parse_args(args=[])"
      ],
      "execution_count": null,
      "outputs": []
    },
    {
      "cell_type": "markdown",
      "metadata": {
        "id": "b8gB-XvULUJt"
      },
      "source": [
        "## データセットのダウンロード"
      ]
    },
    {
      "cell_type": "markdown",
      "metadata": {
        "id": "Plm8o5ywPwx5"
      },
      "source": [
        "足立先輩のdropboxからMNISTをダウンロード\n"
      ]
    },
    {
      "cell_type": "code",
      "metadata": {
        "id": "1d0Vi5MwEzXC"
      },
      "source": [
        "class MNIST_Loader(Dataset):\n",
        "  def __init__(self, train=True, download=True, transform=None):\n",
        "    self.transform = transform\n",
        "    self.url = 'https://www.dropbox.com/s/hc7ukm7vzst5e40/MNIST.zip?dl=1'\n",
        "    \n",
        "    if download:\n",
        "      self._download()\n",
        "    \n",
        "    dname = os.path.join(self.url.rpartition('/')[2][:-9], 'processed')\n",
        "    if train:\n",
        "      datapath = os.path.join(dname, 'training.pt')\n",
        "    else:\n",
        "      datapath = os.path.join(dname, 'test.pt')\n",
        "  \n",
        "    self.data = torch.load(datapath)\n",
        "\n",
        "  def __len__(self):\n",
        "    return len(self.data[0])\n",
        "\n",
        "  def _download(self):\n",
        "    filename = self.url.rpartition('/')[2][:-5]\n",
        "    urllib.request.urlretrieve(self.url, filename)\n",
        "\n",
        "    with zipfile.ZipFile(filename) as existing_zip:\n",
        "      existing_zip.extractall()\n",
        "    os.remove(filename)\n",
        "\n",
        "  def __getitem__(self, i):\n",
        "    image = transform.ToPILImage()(self.data[0][i])\n",
        "    label = self.data[1][i]\n",
        "\n",
        "    if self.transform:\n",
        "      image = self.transform(image)\n",
        "    return image, label"
      ],
      "execution_count": null,
      "outputs": []
    },
    {
      "cell_type": "code",
      "metadata": {
        "colab": {
          "base_uri": "https://localhost:8080/",
          "height": 460,
          "referenced_widgets": [
            "4ff08e0432124c76b87683e8246719be",
            "1bccf84fa0324eafa0a2cea5e0b4cdb3",
            "c05b78c8bc1343adb3ecf4ae3aa47717",
            "18d1446f10e344779d0fa9ec8e85b033",
            "04054d3e0381437b9035583774ffb4cc",
            "0f007a1419cd424aa3470a037b0fbd34",
            "5edcd3a46b794b6b8cc9314f958284ad",
            "ee1d032fab5341a18eaaa4586229240e",
            "d46ea6ae619946788e198b1fd61f25e7",
            "5a38af6dc36a4eefa356863252acdfa2",
            "085da8e03247439faf51d8b550439fc1",
            "6e69fcfb765c4196a474f37bed64b956",
            "4c21e259f04a45409f7a5419c5693064",
            "2428d7d348bd4ee6adb9df93b8d911a9",
            "52bc56e85dd24251b8e14c6f3790707d",
            "bb9f11034bc045ad873b72c69dc1a224",
            "ff6a781488ab4b12a0b90e854c92134c",
            "79786d812a1844bd965ef1c08008305d",
            "e3c362e87c024f07b505e94f7728193a",
            "98e5222ceea4443fbace6854778c9b44",
            "24eb2fc025f04d7bbf012c243a2fa467",
            "ae20f783a0b0499ea19d47e3632feb46",
            "434f710f6afa48fbb0a6959ea723ea61",
            "154823260c2b4affbcbddb7610470188",
            "6d4a263fb1de47399e65be9e0c72f16f",
            "ee9c25f8ea5f472b88146d41f4e139d5",
            "c3ca0bfb5efa4d9aad807d7533580ce0",
            "7967150c9d654088a50a8a900d733cc4",
            "ff492d53d233473a9da78d0b0f45796f",
            "287b7d74612e4b8bb9a6e24c0a9b8f1a",
            "dfd746a3e50e4daca9f8e71fb1cd5911",
            "aa14f150ca234d94ab6664ffc6af4bad"
          ]
        },
        "id": "GIoVQU6aLC5c",
        "outputId": "7bda70a4-feeb-48be-af3e-b4b922fcbdd8"
      },
      "source": [
        "try:\n",
        "  mnist_data = MNIST(root='./data', train=True, transform=transform.ToTensor(), download=True)\n",
        "except: #例外処理\n",
        "  print('Warning: Switch the original implementation because official MNIST data did not download (probably the official server has down).')\n",
        "  mnist_data = MNIST_Loader(train=True, download=True, transform=transform.ToTensor())\n",
        "print('Done!')"
      ],
      "execution_count": null,
      "outputs": [
        {
          "output_type": "stream",
          "text": [
            "Downloading http://yann.lecun.com/exdb/mnist/train-images-idx3-ubyte.gz to ./data/MNIST/raw/train-images-idx3-ubyte.gz\n"
          ],
          "name": "stdout"
        },
        {
          "output_type": "display_data",
          "data": {
            "application/vnd.jupyter.widget-view+json": {
              "model_id": "4ff08e0432124c76b87683e8246719be",
              "version_minor": 0,
              "version_major": 2
            },
            "text/plain": [
              "HBox(children=(FloatProgress(value=0.0, max=9912422.0), HTML(value='')))"
            ]
          },
          "metadata": {
            "tags": []
          }
        },
        {
          "output_type": "stream",
          "text": [
            "\n",
            "Extracting ./data/MNIST/raw/train-images-idx3-ubyte.gz to ./data/MNIST/raw\n",
            "Downloading http://yann.lecun.com/exdb/mnist/train-labels-idx1-ubyte.gz to ./data/MNIST/raw/train-labels-idx1-ubyte.gz\n"
          ],
          "name": "stdout"
        },
        {
          "output_type": "display_data",
          "data": {
            "application/vnd.jupyter.widget-view+json": {
              "model_id": "d46ea6ae619946788e198b1fd61f25e7",
              "version_minor": 0,
              "version_major": 2
            },
            "text/plain": [
              "HBox(children=(FloatProgress(value=0.0, max=28881.0), HTML(value='')))"
            ]
          },
          "metadata": {
            "tags": []
          }
        },
        {
          "output_type": "stream",
          "text": [
            "\n",
            "Extracting ./data/MNIST/raw/train-labels-idx1-ubyte.gz to ./data/MNIST/raw\n",
            "Downloading http://yann.lecun.com/exdb/mnist/t10k-images-idx3-ubyte.gz to ./data/MNIST/raw/t10k-images-idx3-ubyte.gz\n"
          ],
          "name": "stdout"
        },
        {
          "output_type": "display_data",
          "data": {
            "application/vnd.jupyter.widget-view+json": {
              "model_id": "ff6a781488ab4b12a0b90e854c92134c",
              "version_minor": 0,
              "version_major": 2
            },
            "text/plain": [
              "HBox(children=(FloatProgress(value=0.0, max=1648877.0), HTML(value='')))"
            ]
          },
          "metadata": {
            "tags": []
          }
        },
        {
          "output_type": "stream",
          "text": [
            "\n",
            "Extracting ./data/MNIST/raw/t10k-images-idx3-ubyte.gz to ./data/MNIST/raw\n",
            "Downloading http://yann.lecun.com/exdb/mnist/t10k-labels-idx1-ubyte.gz to ./data/MNIST/raw/t10k-labels-idx1-ubyte.gz\n"
          ],
          "name": "stdout"
        },
        {
          "output_type": "display_data",
          "data": {
            "application/vnd.jupyter.widget-view+json": {
              "model_id": "6d4a263fb1de47399e65be9e0c72f16f",
              "version_minor": 0,
              "version_major": 2
            },
            "text/plain": [
              "HBox(children=(FloatProgress(value=0.0, max=4542.0), HTML(value='')))"
            ]
          },
          "metadata": {
            "tags": []
          }
        },
        {
          "output_type": "stream",
          "text": [
            "\n",
            "Extracting ./data/MNIST/raw/t10k-labels-idx1-ubyte.gz to ./data/MNIST/raw\n",
            "Processing...\n",
            "Done!\n",
            "Done!\n"
          ],
          "name": "stdout"
        },
        {
          "output_type": "stream",
          "text": [
            "/usr/local/lib/python3.7/dist-packages/torchvision/datasets/mnist.py:479: UserWarning: The given NumPy array is not writeable, and PyTorch does not support non-writeable tensors. This means you can write to the underlying (supposedly non-writeable) NumPy array using the tensor. You may want to copy the array to protect its data or make it writeable before converting it to a tensor. This type of warning will be suppressed for the rest of this program. (Triggered internally at  /pytorch/torch/csrc/utils/tensor_numpy.cpp:143.)\n",
            "  return torch.from_numpy(parsed.astype(m[2], copy=False)).view(*s)\n"
          ],
          "name": "stderr"
        }
      ]
    },
    {
      "cell_type": "markdown",
      "metadata": {
        "id": "3caI8NE-LbDc"
      },
      "source": [
        "## 学習用データと評価用データを用意"
      ]
    },
    {
      "cell_type": "code",
      "metadata": {
        "id": "9ywA_pHxE6P-"
      },
      "source": [
        "train_loader=DataLoader(mnist_data,batch_size=args.batch_size,shuffle=True)\n",
        "test_loader=DataLoader(mnist_data,batch_size=1,shuffle=True)"
      ],
      "execution_count": null,
      "outputs": []
    },
    {
      "cell_type": "markdown",
      "metadata": {
        "id": "EzJXLdS6LiJT"
      },
      "source": [
        "## モデルの読み込み"
      ]
    },
    {
      "cell_type": "code",
      "metadata": {
        "id": "M9ZcTuvlE76f"
      },
      "source": [
        "model=NN(args.in_size,args.hidden_size,args.out_size)"
      ],
      "execution_count": null,
      "outputs": []
    },
    {
      "cell_type": "code",
      "metadata": {
        "id": "L70kab6cU5b1",
        "colab": {
          "base_uri": "https://localhost:8080/"
        },
        "outputId": "bf513375-043a-4d7c-c71c-9deedf516273"
      },
      "source": [
        "torchsummary.summary(model, (1,28,28)) #確認用"
      ],
      "execution_count": null,
      "outputs": [
        {
          "output_type": "stream",
          "text": [
            "----------------------------------------------------------------\n",
            "        Layer (type)               Output Shape         Param #\n",
            "================================================================\n",
            "            Linear-1                   [-1, 50]          39,250\n",
            "              ReLU-2                   [-1, 50]               0\n",
            "            Linear-3                   [-1, 10]             510\n",
            "              ReLU-4                   [-1, 10]               0\n",
            "           Softmax-5                   [-1, 10]               0\n",
            "================================================================\n",
            "Total params: 39,760\n",
            "Trainable params: 39,760\n",
            "Non-trainable params: 0\n",
            "----------------------------------------------------------------\n",
            "Input size (MB): 0.00\n",
            "Forward/backward pass size (MB): 0.00\n",
            "Params size (MB): 0.15\n",
            "Estimated Total Size (MB): 0.16\n",
            "----------------------------------------------------------------\n"
          ],
          "name": "stdout"
        }
      ]
    },
    {
      "cell_type": "markdown",
      "metadata": {
        "id": "4lw_rLKJLrwj"
      },
      "source": [
        "## 損失関数と最適化手法の定義"
      ]
    },
    {
      "cell_type": "code",
      "metadata": {
        "id": "1u_S60ZuE93x"
      },
      "source": [
        "criterion = nn.CrossEntropyLoss() #損失関数をCross Entropyに設定\n",
        "optimizer = optim.SGD(model.parameters(),lr=args.lr) #SGDに設定\n",
        "#optimizer = optim.Adam(model.parameters(),lr=args.lr)　課題2"
      ],
      "execution_count": null,
      "outputs": []
    },
    {
      "cell_type": "markdown",
      "metadata": {
        "id": "B7a0jctoqxh1"
      },
      "source": [
        "## 学習&評価用コード"
      ]
    },
    {
      "cell_type": "code",
      "metadata": {
        "id": "TVCNeWPHE_z5",
        "colab": {
          "base_uri": "https://localhost:8080/"
        },
        "outputId": "6b08b864-8a9c-4e5e-baf2-d6e094096439"
      },
      "source": [
        "for epoch in range(args.epoch):\n",
        "    run_loss=0\n",
        "    correct=0\n",
        "    total=0\n",
        "    for i,data in enumerate(train_loader):\n",
        "        inputs,labels=data\n",
        "        inputs,labels=Variable(inputs),Variable(labels)\n",
        "        optimizer.zero_grad()\n",
        "        outputs=model(inputs,train=True)\n",
        "        loss=criterion(outputs,labels)\n",
        "        loss.backward()\n",
        "        optimizer.step()\n",
        "        run_loss+=loss.item()\n",
        "        if i==len(train_loader)-1:\n",
        "            print('%d loss:%.7f'%(epoch+1,run_loss/len(train_loader)))\n",
        "            run_loss=0\n",
        "    for i,data in enumerate(test_loader):\n",
        "        inputs,labels=data\n",
        "        inputs,labels=Variable(inputs),Variable(labels)\n",
        "        outputs=model(inputs,train=False)\n",
        "        predicted=torch.argmax(outputs)\n",
        "        total+=labels.size(0)\n",
        "        correct+=(predicted==labels).sum()\n",
        "    print(\"Accuracy %d /%d =%.5f\" % (correct,total,float(correct)/total))\n",
        "    print(\"========================\")"
      ],
      "execution_count": null,
      "outputs": [
        {
          "output_type": "stream",
          "text": [
            "1 loss:0.7007329\n",
            "Accuracy 54294 /60000 =0.90490\n",
            "========================\n",
            "2 loss:0.2977787\n",
            "Accuracy 55536 /60000 =0.92560\n",
            "========================\n",
            "3 loss:0.2454645\n",
            "Accuracy 56203 /60000 =0.93672\n",
            "========================\n",
            "4 loss:0.2101024\n",
            "Accuracy 56727 /60000 =0.94545\n",
            "========================\n",
            "5 loss:0.1841171\n",
            "Accuracy 57096 /60000 =0.95160\n",
            "========================\n",
            "6 loss:0.1638465\n",
            "Accuracy 57307 /60000 =0.95512\n",
            "========================\n",
            "7 loss:0.1475477\n",
            "Accuracy 57702 /60000 =0.96170\n",
            "========================\n",
            "8 loss:0.1340259\n",
            "Accuracy 57855 /60000 =0.96425\n",
            "========================\n",
            "9 loss:0.1232509\n",
            "Accuracy 58095 /60000 =0.96825\n",
            "========================\n",
            "10 loss:0.1144972\n",
            "Accuracy 58134 /60000 =0.96890\n",
            "========================\n",
            "11 loss:0.1065057\n",
            "Accuracy 58326 /60000 =0.97210\n",
            "========================\n",
            "12 loss:0.0996887\n",
            "Accuracy 58423 /60000 =0.97372\n",
            "========================\n",
            "13 loss:0.0935017\n",
            "Accuracy 58564 /60000 =0.97607\n",
            "========================\n",
            "14 loss:0.0885115\n",
            "Accuracy 58607 /60000 =0.97678\n",
            "========================\n",
            "15 loss:0.0839622\n",
            "Accuracy 58641 /60000 =0.97735\n",
            "========================\n",
            "16 loss:0.0797781\n",
            "Accuracy 58778 /60000 =0.97963\n",
            "========================\n",
            "17 loss:0.0757743\n",
            "Accuracy 58827 /60000 =0.98045\n",
            "========================\n",
            "18 loss:0.0724855\n",
            "Accuracy 58894 /60000 =0.98157\n",
            "========================\n",
            "19 loss:0.0689271\n",
            "Accuracy 58903 /60000 =0.98172\n",
            "========================\n",
            "20 loss:0.0664398\n",
            "Accuracy 59034 /60000 =0.98390\n",
            "========================\n"
          ],
          "name": "stdout"
        }
      ]
    },
    {
      "cell_type": "markdown",
      "metadata": {
        "id": "u19B1j_3e6Tm"
      },
      "source": [
        "## 分類された画像のプロット"
      ]
    },
    {
      "cell_type": "code",
      "metadata": {
        "id": "e39AZnbxFCNq",
        "colab": {
          "base_uri": "https://localhost:8080/",
          "height": 1000
        },
        "outputId": "8d1bc293-1c88-437f-efa5-d59cb0d26d26"
      },
      "source": [
        "import matplotlib.pyplot as plt\n",
        "test_iter=iter(test_loader)\n",
        "\n",
        "GT_label,P_label,image=[],[],[]\n",
        "for i in range(100):\n",
        "    inputs,labels=test_iter.next()\n",
        "    outputs=model(Variable(inputs))\n",
        "    _,predicted=torch.max(outputs.data,1)\n",
        "    GT_label.append(labels[0].numpy().astype(np.int32))\n",
        "    P_label.append(predicted[0].numpy().astype(np.int32))\n",
        "    image.append(inputs[0].numpy().reshape(28,28))\n",
        "    \n",
        "plt.figure(figsize=[36,36])\n",
        "for e,(gt,p,i) in enumerate(zip(GT_label,P_label,image)):\n",
        "    plt.subplot(10,10,e+1)\n",
        "    plt.imshow(i,cmap='gray') #gray scaleで描画\n",
        "    plt.xticks([]) #目盛りいらない\n",
        "    plt.yticks([])\n",
        "    plt.title(\"true label # %01d\" %gt,c='b') #blueでtrue labelをタイトルとして描画\n",
        "    plt.xlabel(\"pred label # %01d\" %p,c='r') #redでpred labetをx軸ラベルとして描画"
      ],
      "execution_count": null,
      "outputs": [
        {
          "output_type": "display_data",
          "data": {
            "image/png": "[encoded data removed]",
            "text/plain": [
              "<Figure size 2592x2592 with 100 Axes>"
            ]
          },
          "metadata": {
            "tags": []
          }
        }
      ]
    },
    {
      "cell_type": "code",
      "metadata": {
        "id": "PeRu9tiWb73i"
      },
      "source": [
        ""
      ],
      "execution_count": null,
      "outputs": []
    }
  ]
}